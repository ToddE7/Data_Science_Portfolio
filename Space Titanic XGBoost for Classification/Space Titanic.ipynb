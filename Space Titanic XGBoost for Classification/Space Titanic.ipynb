{
 "cells": [
  {
   "cell_type": "code",
   "execution_count": 30,
   "metadata": {},
   "outputs": [],
   "source": [
    "import pandas as pd\n",
    "import numpy as np\n",
    "import xgboost as xgb\n",
    "from sklearn.model_selection import train_test_split\n",
    "from sklearn.metrics import balanced_accuracy_score, roc_auc_score, make_scorer\n",
    "from sklearn.model_selection import GridSearchCV\n",
    "from sklearn.metrics import confusion_matrix\n",
    "from sklearn.metrics import plot_confusion_matrix\n",
    "from sklearn.metrics import mean_absolute_error"
   ]
  },
  {
   "cell_type": "code",
   "execution_count": 31,
   "metadata": {},
   "outputs": [],
   "source": [
    "train = pd.read_csv(\"train.csv\")"
   ]
  },
  {
   "cell_type": "code",
   "execution_count": 32,
   "metadata": {},
   "outputs": [
    {
     "data": {
      "text/html": [
       "<div>\n",
       "<style scoped>\n",
       "    .dataframe tbody tr th:only-of-type {\n",
       "        vertical-align: middle;\n",
       "    }\n",
       "\n",
       "    .dataframe tbody tr th {\n",
       "        vertical-align: top;\n",
       "    }\n",
       "\n",
       "    .dataframe thead th {\n",
       "        text-align: right;\n",
       "    }\n",
       "</style>\n",
       "<table border=\"1\" class=\"dataframe\">\n",
       "  <thead>\n",
       "    <tr style=\"text-align: right;\">\n",
       "      <th></th>\n",
       "      <th>PassengerId</th>\n",
       "      <th>HomePlanet</th>\n",
       "      <th>CryoSleep</th>\n",
       "      <th>Cabin</th>\n",
       "      <th>Destination</th>\n",
       "      <th>Age</th>\n",
       "      <th>VIP</th>\n",
       "      <th>RoomService</th>\n",
       "      <th>FoodCourt</th>\n",
       "      <th>ShoppingMall</th>\n",
       "      <th>Spa</th>\n",
       "      <th>VRDeck</th>\n",
       "      <th>Name</th>\n",
       "      <th>Transported</th>\n",
       "    </tr>\n",
       "  </thead>\n",
       "  <tbody>\n",
       "    <tr>\n",
       "      <th>0</th>\n",
       "      <td>0001_01</td>\n",
       "      <td>Europa</td>\n",
       "      <td>False</td>\n",
       "      <td>B/0/P</td>\n",
       "      <td>TRAPPIST-1e</td>\n",
       "      <td>39.0</td>\n",
       "      <td>False</td>\n",
       "      <td>0.0</td>\n",
       "      <td>0.0</td>\n",
       "      <td>0.0</td>\n",
       "      <td>0.0</td>\n",
       "      <td>0.0</td>\n",
       "      <td>Maham Ofracculy</td>\n",
       "      <td>False</td>\n",
       "    </tr>\n",
       "    <tr>\n",
       "      <th>1</th>\n",
       "      <td>0002_01</td>\n",
       "      <td>Earth</td>\n",
       "      <td>False</td>\n",
       "      <td>F/0/S</td>\n",
       "      <td>TRAPPIST-1e</td>\n",
       "      <td>24.0</td>\n",
       "      <td>False</td>\n",
       "      <td>109.0</td>\n",
       "      <td>9.0</td>\n",
       "      <td>25.0</td>\n",
       "      <td>549.0</td>\n",
       "      <td>44.0</td>\n",
       "      <td>Juanna Vines</td>\n",
       "      <td>True</td>\n",
       "    </tr>\n",
       "    <tr>\n",
       "      <th>2</th>\n",
       "      <td>0003_01</td>\n",
       "      <td>Europa</td>\n",
       "      <td>False</td>\n",
       "      <td>A/0/S</td>\n",
       "      <td>TRAPPIST-1e</td>\n",
       "      <td>58.0</td>\n",
       "      <td>True</td>\n",
       "      <td>43.0</td>\n",
       "      <td>3576.0</td>\n",
       "      <td>0.0</td>\n",
       "      <td>6715.0</td>\n",
       "      <td>49.0</td>\n",
       "      <td>Altark Susent</td>\n",
       "      <td>False</td>\n",
       "    </tr>\n",
       "    <tr>\n",
       "      <th>3</th>\n",
       "      <td>0003_02</td>\n",
       "      <td>Europa</td>\n",
       "      <td>False</td>\n",
       "      <td>A/0/S</td>\n",
       "      <td>TRAPPIST-1e</td>\n",
       "      <td>33.0</td>\n",
       "      <td>False</td>\n",
       "      <td>0.0</td>\n",
       "      <td>1283.0</td>\n",
       "      <td>371.0</td>\n",
       "      <td>3329.0</td>\n",
       "      <td>193.0</td>\n",
       "      <td>Solam Susent</td>\n",
       "      <td>False</td>\n",
       "    </tr>\n",
       "    <tr>\n",
       "      <th>4</th>\n",
       "      <td>0004_01</td>\n",
       "      <td>Earth</td>\n",
       "      <td>False</td>\n",
       "      <td>F/1/S</td>\n",
       "      <td>TRAPPIST-1e</td>\n",
       "      <td>16.0</td>\n",
       "      <td>False</td>\n",
       "      <td>303.0</td>\n",
       "      <td>70.0</td>\n",
       "      <td>151.0</td>\n",
       "      <td>565.0</td>\n",
       "      <td>2.0</td>\n",
       "      <td>Willy Santantines</td>\n",
       "      <td>True</td>\n",
       "    </tr>\n",
       "  </tbody>\n",
       "</table>\n",
       "</div>"
      ],
      "text/plain": [
       "  PassengerId HomePlanet CryoSleep  Cabin  Destination   Age    VIP  \\\n",
       "0     0001_01     Europa     False  B/0/P  TRAPPIST-1e  39.0  False   \n",
       "1     0002_01      Earth     False  F/0/S  TRAPPIST-1e  24.0  False   \n",
       "2     0003_01     Europa     False  A/0/S  TRAPPIST-1e  58.0   True   \n",
       "3     0003_02     Europa     False  A/0/S  TRAPPIST-1e  33.0  False   \n",
       "4     0004_01      Earth     False  F/1/S  TRAPPIST-1e  16.0  False   \n",
       "\n",
       "   RoomService  FoodCourt  ShoppingMall     Spa  VRDeck               Name  \\\n",
       "0          0.0        0.0           0.0     0.0     0.0    Maham Ofracculy   \n",
       "1        109.0        9.0          25.0   549.0    44.0       Juanna Vines   \n",
       "2         43.0     3576.0           0.0  6715.0    49.0      Altark Susent   \n",
       "3          0.0     1283.0         371.0  3329.0   193.0       Solam Susent   \n",
       "4        303.0       70.0         151.0   565.0     2.0  Willy Santantines   \n",
       "\n",
       "   Transported  \n",
       "0        False  \n",
       "1         True  \n",
       "2        False  \n",
       "3        False  \n",
       "4         True  "
      ]
     },
     "execution_count": 32,
     "metadata": {},
     "output_type": "execute_result"
    }
   ],
   "source": [
    "train.head()"
   ]
  },
  {
   "cell_type": "code",
   "execution_count": 33,
   "metadata": {},
   "outputs": [],
   "source": [
    "train_ids = train['PassengerId']\n",
    "train.drop(['PassengerId'], axis=1, inplace=True)"
   ]
  },
  {
   "cell_type": "code",
   "execution_count": 34,
   "metadata": {},
   "outputs": [],
   "source": [
    "# Add just the last name as it might be important and remove full name\n",
    "# There could be some cross contamination between cabin and last name?\n",
    "#fam = train['Name'].str.split(n=1,expand=True)\n",
    "#train['Family Name'] = fam[1]\n",
    "train.drop(['Name'], axis=1, inplace=True)"
   ]
  },
  {
   "cell_type": "code",
   "execution_count": 35,
   "metadata": {},
   "outputs": [],
   "source": [
    "# Remove any extra whitespace\n",
    "train.columns = train.columns.str.replace(' ', '_')"
   ]
  },
  {
   "cell_type": "code",
   "execution_count": 36,
   "metadata": {},
   "outputs": [
    {
     "name": "stdout",
     "output_type": "stream",
     "text": [
      "  HomePlanet CryoSleep  Cabin  Destination   Age    VIP  RoomService  \\\n",
      "0     Europa     False  B/0/P  TRAPPIST-1e  39.0  False          0.0   \n",
      "1      Earth     False  F/0/S  TRAPPIST-1e  24.0  False        109.0   \n",
      "2     Europa     False  A/0/S  TRAPPIST-1e  58.0   True         43.0   \n",
      "3     Europa     False  A/0/S  TRAPPIST-1e  33.0  False          0.0   \n",
      "4      Earth     False  F/1/S  TRAPPIST-1e  16.0  False        303.0   \n",
      "\n",
      "   FoodCourt  ShoppingMall     Spa  VRDeck  Transported  \n",
      "0        0.0           0.0     0.0     0.0        False  \n",
      "1        9.0          25.0   549.0    44.0         True  \n",
      "2     3576.0           0.0  6715.0    49.0        False  \n",
      "3     1283.0         371.0  3329.0   193.0        False  \n",
      "4       70.0         151.0   565.0     2.0         True  \n"
     ]
    },
    {
     "data": {
      "text/plain": [
       "HomePlanet       object\n",
       "CryoSleep        object\n",
       "Cabin            object\n",
       "Destination      object\n",
       "Age             float64\n",
       "VIP              object\n",
       "RoomService     float64\n",
       "FoodCourt       float64\n",
       "ShoppingMall    float64\n",
       "Spa             float64\n",
       "VRDeck          float64\n",
       "Transported        bool\n",
       "dtype: object"
      ]
     },
     "execution_count": 36,
     "metadata": {},
     "output_type": "execute_result"
    }
   ],
   "source": [
    "print(train.head())\n",
    "train.dtypes"
   ]
  },
  {
   "cell_type": "code",
   "execution_count": 37,
   "metadata": {},
   "outputs": [],
   "source": [
    "# Replacing missing homeplanets with the homeplanets of those in the same cabin This did not improve my results\n",
    "\n",
    "#na_planets = train[train['HomePlanet'].isna()]['Cabin']\n",
    "#found_planets = train.loc[train['Cabin'].isin(na_planets) \n",
    "#                          & ~train['Cabin'].isna() \n",
    "#                          & ~train['HomePlanet'].isna(), ['Cabin', 'HomePlanet']]\n",
    "#merged_df = train.merge(found_planets, on='Cabin', how='left')\n",
    "#merged_df['HomePlanet'] = merged_df['HomePlanet_y'].fillna(merged_df['HomePlanet_x'])\n",
    "#cabin_planet_matched = merged_df.groupby(['Cabin'])['HomePlanet'].first().reset_index()\n",
    "#train.update(cabin_planet_matched, overwrite=False)\n"
   ]
  },
  {
   "cell_type": "code",
   "execution_count": 38,
   "metadata": {},
   "outputs": [],
   "source": [
    "# Try replacing missing values with the mean for numeric fields\n",
    "#m_age = np.mean(train['Age'])\n",
    "#m_RS = np.mean(train['RoomService'])\n",
    "#m_FC = np.mean(train['FoodCourt'])\n",
    "#m_SM = np.mean(train['ShoppingMall'])\n",
    "#m_Spa = np.mean(train['Spa'])\n",
    "#m_VR = np.mean(train['VRDeck'])\n",
    "\n",
    "#train['Age'].fillna(m_age, inplace=True)\n",
    "#train['RoomService'].fillna(m_RS, inplace=True)\n",
    "#train['FoodCourt'].fillna(m_FC, inplace=True)\n",
    "#train['ShoppingMall'].fillna(m_SM, inplace=True)\n",
    "#train['Spa'].fillna(m_Spa, inplace=True)\n",
    "#train['VRDeck'].fillna(m_VR, inplace=True)"
   ]
  },
  {
   "cell_type": "code",
   "execution_count": 39,
   "metadata": {},
   "outputs": [],
   "source": [
    "# Replace all nan with 0 as its GXB prefered method\n",
    "\n",
    "train.fillna(0, inplace=True)"
   ]
  },
  {
   "cell_type": "code",
   "execution_count": 40,
   "metadata": {},
   "outputs": [
    {
     "data": {
      "text/plain": [
       "201"
      ]
     },
     "execution_count": 40,
     "metadata": {},
     "output_type": "execute_result"
    }
   ],
   "source": [
    "len(train.loc[train['HomePlanet'] == 0])"
   ]
  },
  {
   "cell_type": "code",
   "execution_count": 41,
   "metadata": {},
   "outputs": [],
   "source": [
    "# Try replacing 0 in VIP with False to set it to bool\n",
    "train['VIP'].replace(0, False, inplace=True)\n",
    "train['VIP'] = train['VIP'].astype(bool)"
   ]
  },
  {
   "cell_type": "code",
   "execution_count": 42,
   "metadata": {},
   "outputs": [],
   "source": [
    "# Split X and y\n",
    "X = train.drop('Transported', axis=1).copy()\n",
    "y = train['Transported'].copy()"
   ]
  },
  {
   "cell_type": "code",
   "execution_count": 43,
   "metadata": {},
   "outputs": [],
   "source": [
    "X_encode = pd.get_dummies(X, columns=['HomePlanet', 'CryoSleep', 'Cabin', 'Destination', 'VIP'])"
   ]
  },
  {
   "cell_type": "code",
   "execution_count": 44,
   "metadata": {},
   "outputs": [],
   "source": [
    "# data is balanced approx 50/50 so I will do normal split\n",
    "X_train, X_test, y_train, y_test = train_test_split(X_encode, y)"
   ]
  },
  {
   "cell_type": "code",
   "execution_count": 45,
   "metadata": {},
   "outputs": [
    {
     "name": "stdout",
     "output_type": "stream",
     "text": [
      "[0]\tvalidation_0-aucpr:0.86461\n",
      "[1]\tvalidation_0-aucpr:0.87271\n",
      "[2]\tvalidation_0-aucpr:0.87433\n",
      "[3]\tvalidation_0-aucpr:0.87403\n",
      "[4]\tvalidation_0-aucpr:0.87245\n",
      "[5]\tvalidation_0-aucpr:0.87373\n",
      "[6]\tvalidation_0-aucpr:0.87625\n",
      "[7]\tvalidation_0-aucpr:0.87740\n",
      "[8]\tvalidation_0-aucpr:0.87875\n",
      "[9]\tvalidation_0-aucpr:0.87899\n",
      "[10]\tvalidation_0-aucpr:0.87943\n",
      "[11]\tvalidation_0-aucpr:0.87986\n",
      "[12]\tvalidation_0-aucpr:0.87935\n",
      "[13]\tvalidation_0-aucpr:0.87968\n",
      "[14]\tvalidation_0-aucpr:0.87974\n",
      "[15]\tvalidation_0-aucpr:0.87993\n",
      "[16]\tvalidation_0-aucpr:0.87901\n",
      "[17]\tvalidation_0-aucpr:0.87917\n",
      "[18]\tvalidation_0-aucpr:0.87935\n",
      "[19]\tvalidation_0-aucpr:0.87952\n",
      "[20]\tvalidation_0-aucpr:0.87940\n",
      "[21]\tvalidation_0-aucpr:0.87966\n",
      "[22]\tvalidation_0-aucpr:0.87921\n",
      "[23]\tvalidation_0-aucpr:0.87940\n",
      "[24]\tvalidation_0-aucpr:0.87915\n"
     ]
    },
    {
     "data": {
      "text/plain": [
       "XGBClassifier(base_score=0.5, booster='gbtree', callbacks=None,\n",
       "              colsample_bylevel=1, colsample_bynode=1, colsample_bytree=1,\n",
       "              early_stopping_rounds=10, enable_categorical=False,\n",
       "              eval_metric='aucpr', gamma=0, gpu_id=-1, grow_policy='depthwise',\n",
       "              importance_type=None, interaction_constraints='',\n",
       "              learning_rate=0.300000012, max_bin=256, max_cat_to_onehot=4,\n",
       "              max_delta_step=0, max_depth=6, max_leaves=0, min_child_weight=1,\n",
       "              missing=1, monotone_constraints='()', n_estimators=100, n_jobs=0,\n",
       "              num_parallel_tree=1, predictor='auto', random_state=0,\n",
       "              reg_alpha=0, reg_lambda=1, ...)"
      ]
     },
     "execution_count": 45,
     "metadata": {},
     "output_type": "execute_result"
    }
   ],
   "source": [
    "# build a basic model without modifying parameters\n",
    "clf_xgb = xgb.XGBClassifier(objective='binary:logistic',eval_metric='aucpr', early_stopping_rounds=10, missing=1)\n",
    "clf_xgb.fit(X_train, y_train, verbose=True, eval_set=[(X_test, y_test)])"
   ]
  },
  {
   "cell_type": "code",
   "execution_count": 46,
   "metadata": {},
   "outputs": [
    {
     "data": {
      "text/plain": [
       "<sklearn.metrics._plot.confusion_matrix.ConfusionMatrixDisplay at 0x172c9298c70>"
      ]
     },
     "execution_count": 46,
     "metadata": {},
     "output_type": "execute_result"
    },
    {
     "data": {
      "image/png": "[encoded data removed]",
      "text/plain": [
       "<Figure size 432x288 with 2 Axes>"
      ]
     },
     "metadata": {
      "needs_background": "light"
     },
     "output_type": "display_data"
    }
   ],
   "source": [
    "# check simple model confusion matrix, results aren't great\n",
    "plot_confusion_matrix(clf_xgb, X_test, y_test, values_format='d', display_labels=['Did not teleport', 'teleported'])"
   ]
  },
  {
   "cell_type": "code",
   "execution_count": 21,
   "metadata": {},
   "outputs": [],
   "source": [
    "# optimize parameters with hyperparameterization, grid2 came after running 1 and refines the search by making params in the\n",
    "# middle of their range static, and expanding the search for params at the max of their range\n",
    "\n",
    "param_grid1 = {\n",
    "    'max_depth': [3,4,5],\n",
    "    'learning_rate': [0.1,0.01,0.05],\n",
    "    'gamma': [0,0.25,1.0],\n",
    "    'reg_lambda': [0,1.0,10.0],\n",
    "    'scale_pos_weight': [1,3,5]\n",
    "}\n",
    "\n",
    "param_grid2 = {\n",
    "    'max_depth': [4],\n",
    "    'learning_rate': [0.05,0.005,0.001],\n",
    "    'gamma': [0.25],\n",
    "    'reg_lambda': [0],\n",
    "    'scale_pos_weight': [0.1,0.5,1]\n",
    "}\n",
    "\n",
    "optimal_params = GridSearchCV(\n",
    "    estimator=xgb.XGBClassifier(objective = 'binary:logistic',\n",
    "                               subsample=0.9,\n",
    "                               colsample_bytree=0.5,\n",
    "                                early_stopping_rounds=10,\n",
    "                                eval_metric='auc'\n",
    "                               ),\n",
    "    param_grid = param_grid2,\n",
    "    scoring = 'roc_auc',\n",
    "    verbose = 0,\n",
    "    n_jobs = 10,\n",
    "    cv = 3\n",
    ")"
   ]
  },
  {
   "cell_type": "code",
   "execution_count": 79,
   "metadata": {},
   "outputs": [
    {
     "name": "stderr",
     "output_type": "stream",
     "text": [
      "C:\\Users\\Admin\\anaconda3\\lib\\site-packages\\xgboost\\sklearn.py:793: UserWarning: `eval_metric` in `fit` method is deprecated for better compatibility with scikit-learn, use `eval_metric` in constructor or`set_params` instead.\n",
      "  warnings.warn(\n",
      "C:\\Users\\Admin\\anaconda3\\lib\\site-packages\\xgboost\\sklearn.py:793: UserWarning: `early_stopping_rounds` in `fit` method is deprecated for better compatibility with scikit-learn, use `early_stopping_rounds` in constructor or`set_params` instead.\n",
      "  warnings.warn(\n"
     ]
    },
    {
     "data": {
      "text/plain": [
       "{'gamma': 0.25,\n",
       " 'learning_rate': 0.05,\n",
       " 'max_depth': 4,\n",
       " 'reg_lambda': 0,\n",
       " 'scale_pos_weight': 1}"
      ]
     },
     "execution_count": 79,
     "metadata": {},
     "output_type": "execute_result"
    }
   ],
   "source": [
    "# round 1\n",
    "optimal_params.fit(X_train,y_train, eval_set=[(X_test, y_test)], verbose=False)\n",
    "optimal_params.best_params_"
   ]
  },
  {
   "cell_type": "code",
   "execution_count": 22,
   "metadata": {},
   "outputs": [
    {
     "data": {
      "text/plain": [
       "{'gamma': 0.25,\n",
       " 'learning_rate': 0.05,\n",
       " 'max_depth': 4,\n",
       " 'reg_lambda': 0,\n",
       " 'scale_pos_weight': 1}"
      ]
     },
     "execution_count": 22,
     "metadata": {},
     "output_type": "execute_result"
    }
   ],
   "source": [
    "# round 2 we get the same values so we'll stick with that\n",
    "optimal_params.fit(X_train,y_train, eval_set=[(X_test, y_test)], verbose=False)\n",
    "optimal_params.best_params_"
   ]
  },
  {
   "cell_type": "code",
   "execution_count": 22,
   "metadata": {},
   "outputs": [
    {
     "name": "stdout",
     "output_type": "stream",
     "text": [
      "[0]\tvalidation_0-aucpr:0.83775\n",
      "[1]\tvalidation_0-aucpr:0.84748\n",
      "[2]\tvalidation_0-aucpr:0.85292\n",
      "[3]\tvalidation_0-aucpr:0.85721\n",
      "[4]\tvalidation_0-aucpr:0.85915\n",
      "[5]\tvalidation_0-aucpr:0.85439\n",
      "[6]\tvalidation_0-aucpr:0.84921\n",
      "[7]\tvalidation_0-aucpr:0.85566\n",
      "[8]\tvalidation_0-aucpr:0.85667\n",
      "[9]\tvalidation_0-aucpr:0.85732\n",
      "[10]\tvalidation_0-aucpr:0.85783\n",
      "[11]\tvalidation_0-aucpr:0.85965\n",
      "[12]\tvalidation_0-aucpr:0.85883\n",
      "[13]\tvalidation_0-aucpr:0.85974\n",
      "[14]\tvalidation_0-aucpr:0.86159\n",
      "[15]\tvalidation_0-aucpr:0.86348\n",
      "[16]\tvalidation_0-aucpr:0.86104\n",
      "[17]\tvalidation_0-aucpr:0.86293\n",
      "[18]\tvalidation_0-aucpr:0.86438\n",
      "[19]\tvalidation_0-aucpr:0.86481\n",
      "[20]\tvalidation_0-aucpr:0.86537\n",
      "[21]\tvalidation_0-aucpr:0.86444\n",
      "[22]\tvalidation_0-aucpr:0.86689\n",
      "[23]\tvalidation_0-aucpr:0.86802\n",
      "[24]\tvalidation_0-aucpr:0.86799\n",
      "[25]\tvalidation_0-aucpr:0.86874\n",
      "[26]\tvalidation_0-aucpr:0.86850\n",
      "[27]\tvalidation_0-aucpr:0.86840\n",
      "[28]\tvalidation_0-aucpr:0.86924\n",
      "[29]\tvalidation_0-aucpr:0.86873\n",
      "[30]\tvalidation_0-aucpr:0.86852\n",
      "[31]\tvalidation_0-aucpr:0.87009\n",
      "[32]\tvalidation_0-aucpr:0.86993\n",
      "[33]\tvalidation_0-aucpr:0.87045\n",
      "[34]\tvalidation_0-aucpr:0.87037\n",
      "[35]\tvalidation_0-aucpr:0.87060\n",
      "[36]\tvalidation_0-aucpr:0.87090\n",
      "[37]\tvalidation_0-aucpr:0.87123\n",
      "[38]\tvalidation_0-aucpr:0.87199\n",
      "[39]\tvalidation_0-aucpr:0.87258\n",
      "[40]\tvalidation_0-aucpr:0.87270\n",
      "[41]\tvalidation_0-aucpr:0.87297\n",
      "[42]\tvalidation_0-aucpr:0.87361\n",
      "[43]\tvalidation_0-aucpr:0.87393\n",
      "[44]\tvalidation_0-aucpr:0.87403\n",
      "[45]\tvalidation_0-aucpr:0.87442\n",
      "[46]\tvalidation_0-aucpr:0.87458\n",
      "[47]\tvalidation_0-aucpr:0.87478\n",
      "[48]\tvalidation_0-aucpr:0.87512\n",
      "[49]\tvalidation_0-aucpr:0.87546\n",
      "[50]\tvalidation_0-aucpr:0.87575\n",
      "[51]\tvalidation_0-aucpr:0.87584\n",
      "[52]\tvalidation_0-aucpr:0.87606\n",
      "[53]\tvalidation_0-aucpr:0.87655\n",
      "[54]\tvalidation_0-aucpr:0.87685\n",
      "[55]\tvalidation_0-aucpr:0.87710\n",
      "[56]\tvalidation_0-aucpr:0.87711\n",
      "[57]\tvalidation_0-aucpr:0.87737\n",
      "[58]\tvalidation_0-aucpr:0.87776\n",
      "[59]\tvalidation_0-aucpr:0.87796\n",
      "[60]\tvalidation_0-aucpr:0.87847\n",
      "[61]\tvalidation_0-aucpr:0.87846\n",
      "[62]\tvalidation_0-aucpr:0.87842\n",
      "[63]\tvalidation_0-aucpr:0.87876\n",
      "[64]\tvalidation_0-aucpr:0.87858\n",
      "[65]\tvalidation_0-aucpr:0.87893\n",
      "[66]\tvalidation_0-aucpr:0.87907\n",
      "[67]\tvalidation_0-aucpr:0.87941\n",
      "[68]\tvalidation_0-aucpr:0.87969\n",
      "[69]\tvalidation_0-aucpr:0.87982\n",
      "[70]\tvalidation_0-aucpr:0.87990\n",
      "[71]\tvalidation_0-aucpr:0.88018\n",
      "[72]\tvalidation_0-aucpr:0.88038\n",
      "[73]\tvalidation_0-aucpr:0.88058\n",
      "[74]\tvalidation_0-aucpr:0.88077\n",
      "[75]\tvalidation_0-aucpr:0.88089\n",
      "[76]\tvalidation_0-aucpr:0.88096\n",
      "[77]\tvalidation_0-aucpr:0.88113\n",
      "[78]\tvalidation_0-aucpr:0.88127\n",
      "[79]\tvalidation_0-aucpr:0.88141\n",
      "[80]\tvalidation_0-aucpr:0.88129\n",
      "[81]\tvalidation_0-aucpr:0.88145\n",
      "[82]\tvalidation_0-aucpr:0.88172\n",
      "[83]\tvalidation_0-aucpr:0.88204\n",
      "[84]\tvalidation_0-aucpr:0.88209\n",
      "[85]\tvalidation_0-aucpr:0.88202\n",
      "[86]\tvalidation_0-aucpr:0.88221\n",
      "[87]\tvalidation_0-aucpr:0.88227\n",
      "[88]\tvalidation_0-aucpr:0.88234\n",
      "[89]\tvalidation_0-aucpr:0.88236\n",
      "[90]\tvalidation_0-aucpr:0.88265\n",
      "[91]\tvalidation_0-aucpr:0.88275\n",
      "[92]\tvalidation_0-aucpr:0.88287\n",
      "[93]\tvalidation_0-aucpr:0.88301\n",
      "[94]\tvalidation_0-aucpr:0.88300\n",
      "[95]\tvalidation_0-aucpr:0.88289\n",
      "[96]\tvalidation_0-aucpr:0.88309\n",
      "[97]\tvalidation_0-aucpr:0.88300\n",
      "[98]\tvalidation_0-aucpr:0.88315\n",
      "[99]\tvalidation_0-aucpr:0.88324\n",
      "[100]\tvalidation_0-aucpr:0.88323\n",
      "[101]\tvalidation_0-aucpr:0.88336\n",
      "[102]\tvalidation_0-aucpr:0.88351\n",
      "[103]\tvalidation_0-aucpr:0.88346\n",
      "[104]\tvalidation_0-aucpr:0.88356\n",
      "[105]\tvalidation_0-aucpr:0.88367\n",
      "[106]\tvalidation_0-aucpr:0.88371\n",
      "[107]\tvalidation_0-aucpr:0.88385\n",
      "[108]\tvalidation_0-aucpr:0.88387\n",
      "[109]\tvalidation_0-aucpr:0.88401\n",
      "[110]\tvalidation_0-aucpr:0.88400\n",
      "[111]\tvalidation_0-aucpr:0.88415\n",
      "[112]\tvalidation_0-aucpr:0.88416\n",
      "[113]\tvalidation_0-aucpr:0.88419\n",
      "[114]\tvalidation_0-aucpr:0.88425\n",
      "[115]\tvalidation_0-aucpr:0.88430\n",
      "[116]\tvalidation_0-aucpr:0.88430\n",
      "[117]\tvalidation_0-aucpr:0.88445\n",
      "[118]\tvalidation_0-aucpr:0.88451\n",
      "[119]\tvalidation_0-aucpr:0.88450\n",
      "[120]\tvalidation_0-aucpr:0.88458\n",
      "[121]\tvalidation_0-aucpr:0.88459\n",
      "[122]\tvalidation_0-aucpr:0.88460\n",
      "[123]\tvalidation_0-aucpr:0.88460\n",
      "[124]\tvalidation_0-aucpr:0.88467\n",
      "[125]\tvalidation_0-aucpr:0.88469\n",
      "[126]\tvalidation_0-aucpr:0.88474\n",
      "[127]\tvalidation_0-aucpr:0.88478\n",
      "[128]\tvalidation_0-aucpr:0.88473\n",
      "[129]\tvalidation_0-aucpr:0.88488\n",
      "[130]\tvalidation_0-aucpr:0.88492\n",
      "[131]\tvalidation_0-aucpr:0.88490\n",
      "[132]\tvalidation_0-aucpr:0.88484\n",
      "[133]\tvalidation_0-aucpr:0.88488\n",
      "[134]\tvalidation_0-aucpr:0.88485\n",
      "[135]\tvalidation_0-aucpr:0.88481\n",
      "[136]\tvalidation_0-aucpr:0.88491\n",
      "[137]\tvalidation_0-aucpr:0.88497\n",
      "[138]\tvalidation_0-aucpr:0.88499\n",
      "[139]\tvalidation_0-aucpr:0.88499\n",
      "[140]\tvalidation_0-aucpr:0.88494\n",
      "[141]\tvalidation_0-aucpr:0.88499\n",
      "[142]\tvalidation_0-aucpr:0.88504\n",
      "[143]\tvalidation_0-aucpr:0.88509\n",
      "[144]\tvalidation_0-aucpr:0.88520\n",
      "[145]\tvalidation_0-aucpr:0.88521\n",
      "[146]\tvalidation_0-aucpr:0.88531\n",
      "[147]\tvalidation_0-aucpr:0.88534\n",
      "[148]\tvalidation_0-aucpr:0.88539\n",
      "[149]\tvalidation_0-aucpr:0.88534\n",
      "[150]\tvalidation_0-aucpr:0.88534\n",
      "[151]\tvalidation_0-aucpr:0.88527\n",
      "[152]\tvalidation_0-aucpr:0.88534\n",
      "[153]\tvalidation_0-aucpr:0.88534\n",
      "[154]\tvalidation_0-aucpr:0.88521\n",
      "[155]\tvalidation_0-aucpr:0.88524\n",
      "[156]\tvalidation_0-aucpr:0.88526\n",
      "[157]\tvalidation_0-aucpr:0.88534\n"
     ]
    },
    {
     "data": {
      "text/plain": [
       "XGBClassifier(base_score=0.5, booster='gbtree', callbacks=None,\n",
       "              colsample_bylevel=1, colsample_bynode=1, colsample_bytree=0.5,\n",
       "              early_stopping_rounds=10, enable_categorical=False,\n",
       "              eval_metric='aucpr', gamma=0.25, gpu_id=-1,\n",
       "              grow_policy='depthwise', importance_type=None,\n",
       "              interaction_constraints='', learning_rate=0.05, max_bin=256,\n",
       "              max_cat_to_onehot=4, max_delta_step=0, max_depth=4, max_leaves=0,\n",
       "              min_child_weight=1, missing=nan, monotone_constraints='()',\n",
       "              n_estimators=200, n_jobs=0, num_parallel_tree=1, predictor='auto',\n",
       "              random_state=0, reg_alpha=0, reg_lambda=0, ...)"
      ]
     },
     "execution_count": 22,
     "metadata": {},
     "output_type": "execute_result"
    }
   ],
   "source": [
    "# setup optimal model\n",
    "\n",
    "xlf_xgb = xgb.XGBClassifier(objective='binary:logistic',\n",
    "                         gamma=0.25,\n",
    "                         learning_rate=0.05,\n",
    "                            n_estimators=200,\n",
    "                         max_depth=4,\n",
    "                         reg_lambda=0,\n",
    "                         scale_pos_weight=1,\n",
    "                         colsample_bytree=0.5,\n",
    "                           early_stopping_rounds=10,\n",
    "                           eval_metric='aucpr')\n",
    "\n",
    "xlf_xgb.fit(X_train,\n",
    "           y_train,\n",
    "           verbose=True,\n",
    "           eval_set=[(X_test, y_test)])"
   ]
  },
  {
   "cell_type": "code",
   "execution_count": 23,
   "metadata": {},
   "outputs": [
    {
     "data": {
      "text/plain": [
       "<sklearn.metrics._plot.confusion_matrix.ConfusionMatrixDisplay at 0x172be96b730>"
      ]
     },
     "execution_count": 23,
     "metadata": {},
     "output_type": "execute_result"
    },
    {
     "data": {
      "image/png": "[encoded data removed]",
      "text/plain": [
       "<Figure size 432x288 with 2 Axes>"
      ]
     },
     "metadata": {
      "needs_background": "light"
     },
     "output_type": "display_data"
    }
   ],
   "source": [
    "plot_confusion_matrix(xlf_xgb,\n",
    "                     X_test,\n",
    "                     y_test,\n",
    "                     values_format='d',\n",
    "                     display_labels=['Did not teleport', 'teleported'])"
   ]
  },
  {
   "cell_type": "code",
   "execution_count": 47,
   "metadata": {},
   "outputs": [
    {
     "name": "stdout",
     "output_type": "stream",
     "text": [
      "  HomePlanet CryoSleep  Cabin  Destination   Age    VIP  RoomService  \\\n",
      "0      Earth      True  G/3/S  TRAPPIST-1e  27.0  False          0.0   \n",
      "1      Earth     False  F/4/S  TRAPPIST-1e  19.0  False          0.0   \n",
      "2     Europa      True  C/0/S  55 Cancri e  31.0  False          0.0   \n",
      "3     Europa     False  C/1/S  TRAPPIST-1e  38.0  False          0.0   \n",
      "4      Earth     False  F/5/S  TRAPPIST-1e  20.0  False         10.0   \n",
      "\n",
      "   FoodCourt  ShoppingMall     Spa  VRDeck  \n",
      "0        0.0           0.0     0.0     0.0  \n",
      "1        9.0           0.0  2823.0     0.0  \n",
      "2        0.0           0.0     0.0     0.0  \n",
      "3     6652.0           0.0   181.0   585.0  \n",
      "4        0.0         635.0     0.0     0.0  \n"
     ]
    }
   ],
   "source": [
    "# now to run on test data\n",
    "\n",
    "test = pd.read_csv(\"test.csv\")\n",
    "test_ids = test['PassengerId']\n",
    "test.drop(['PassengerId'], axis=1, inplace=True)\n",
    "\n",
    "#fam = test['Name'].str.split(n=1,expand=True)\n",
    "#test['Family Name'] = fam[1]\n",
    "test.drop(['Name'], axis=1, inplace=True)\n",
    "test.columns = test.columns.str.replace(' ', '_')\n",
    "\n",
    "# planet replace for test\n",
    "#na_planets = test[test['HomePlanet'].isna()]['Cabin']\n",
    "#found_planets = test.loc[test['Cabin'].isin(na_planets) \n",
    "#                            & ~test['Cabin'].isna() \n",
    "#                            & ~test['HomePlanet'].isna(), ['Cabin', 'HomePlanet']]\n",
    "#merged_df = test.merge(found_planets, on='Cabin', how='left')\n",
    "#merged_df['HomePlanet'] = merged_df['HomePlanet_y'].fillna(merged_df['HomePlanet_x'])\n",
    "#cabin_planet_matched = merged_df.groupby(['Cabin'])['HomePlanet'].first().reset_index()\n",
    "#test.update(cabin_planet_matched, overwrite=False)\n",
    "\n",
    "#test['Age'].fillna(m_age, inplace=True)\n",
    "#test['RoomService'].fillna(m_RS, inplace=True)\n",
    "#test['FoodCourt'].fillna(m_FC, inplace=True)\n",
    "#test['ShoppingMall'].fillna(m_SM, inplace=True)\n",
    "#test['Spa'].fillna(m_Spa, inplace=True)\n",
    "#test['VRDeck'].fillna(m_VR, inplace=True)\n",
    "\n",
    "test.fillna(0, inplace=True)\n",
    "\n",
    "test['VIP'].replace(0, False, inplace=True)\n",
    "test['VIP'] = test['VIP'].astype(bool)\n",
    "\n",
    "print(test.head())\n",
    "\n",
    "test_encode = pd.get_dummies(test, columns=['HomePlanet', 'CryoSleep', 'Cabin', 'Destination', 'VIP'])\n",
    "\n",
    "missing = set(X_encode.columns) - set(test_encode)\n",
    "for c in missing:\n",
    "    test_encode[c] = 0\n",
    "test_encode = test_encode[X_encode.columns]"
   ]
  },
  {
   "cell_type": "code",
   "execution_count": 48,
   "metadata": {},
   "outputs": [
    {
     "data": {
      "text/plain": [
       "array([1, 0, 1, ..., 1, 1, 1])"
      ]
     },
     "execution_count": 48,
     "metadata": {},
     "output_type": "execute_result"
    }
   ],
   "source": [
    "predictions = xlf_xgb.predict(test_encode)\n",
    "predictions"
   ]
  },
  {
   "cell_type": "code",
   "execution_count": 49,
   "metadata": {},
   "outputs": [
    {
     "data": {
      "text/plain": [
       "array([ True, False,  True, ...,  True,  True,  True])"
      ]
     },
     "execution_count": 49,
     "metadata": {},
     "output_type": "execute_result"
    }
   ],
   "source": [
    "predictions = predictions.astype(bool)\n",
    "predictions"
   ]
  },
  {
   "cell_type": "code",
   "execution_count": 50,
   "metadata": {},
   "outputs": [
    {
     "data": {
      "text/plain": [
       "55.810147299509005"
      ]
     },
     "execution_count": 50,
     "metadata": {},
     "output_type": "execute_result"
    }
   ],
   "source": [
    "# positive percentage\n",
    "(sum(predictions)/len(predictions))*100"
   ]
  },
  {
   "cell_type": "code",
   "execution_count": 29,
   "metadata": {},
   "outputs": [],
   "source": [
    "submission = pd.read_csv(\"sample_submission.csv\")\n",
    "submission['Transported'] = predictions\n",
    "submission.to_csv(\"submission4.csv\", index=False)"
   ]
  },
  {
   "cell_type": "code",
   "execution_count": null,
   "metadata": {},
   "outputs": [],
   "source": []
  }
 ],
 "metadata": {
  "kernelspec": {
   "display_name": "Python 3",
   "language": "python",
   "name": "python3"
  },
  "language_info": {
   "codemirror_mode": {
    "name": "ipython",
    "version": 3
   },
   "file_extension": ".py",
   "mimetype": "text/x-python",
   "name": "python",
   "nbconvert_exporter": "python",
   "pygments_lexer": "ipython3",
   "version": "3.8.3"
  }
 },
 "nbformat": 4,
 "nbformat_minor": 4
}
