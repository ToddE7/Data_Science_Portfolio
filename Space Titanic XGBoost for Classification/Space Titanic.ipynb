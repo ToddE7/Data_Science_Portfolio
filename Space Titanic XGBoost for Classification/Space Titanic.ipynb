{
 "cells": [
  {
   "cell_type": "code",
   "execution_count": 64,
   "metadata": {},
   "outputs": [],
   "source": [
    "import pandas as pd\n",
    "import numpy as np\n",
    "import xgboost as xgb\n",
    "from sklearn.model_selection import train_test_split\n",
    "from sklearn.metrics import balanced_accuracy_score, roc_auc_score, make_scorer\n",
    "from sklearn.model_selection import GridSearchCV\n",
    "from sklearn.metrics import confusion_matrix\n",
    "from sklearn.metrics import plot_confusion_matrix\n",
    "from sklearn.metrics import mean_absolute_error"
   ]
  },
  {
   "cell_type": "code",
   "execution_count": 65,
   "metadata": {},
   "outputs": [],
   "source": [
    "train = pd.read_csv(\"train.csv\")"
   ]
  },
  {
   "cell_type": "code",
   "execution_count": 66,
   "metadata": {},
   "outputs": [
    {
     "data": {
      "text/html": [
       "<div>\n",
       "<style scoped>\n",
       "    .dataframe tbody tr th:only-of-type {\n",
       "        vertical-align: middle;\n",
       "    }\n",
       "\n",
       "    .dataframe tbody tr th {\n",
       "        vertical-align: top;\n",
       "    }\n",
       "\n",
       "    .dataframe thead th {\n",
       "        text-align: right;\n",
       "    }\n",
       "</style>\n",
       "<table border=\"1\" class=\"dataframe\">\n",
       "  <thead>\n",
       "    <tr style=\"text-align: right;\">\n",
       "      <th></th>\n",
       "      <th>PassengerId</th>\n",
       "      <th>HomePlanet</th>\n",
       "      <th>CryoSleep</th>\n",
       "      <th>Cabin</th>\n",
       "      <th>Destination</th>\n",
       "      <th>Age</th>\n",
       "      <th>VIP</th>\n",
       "      <th>RoomService</th>\n",
       "      <th>FoodCourt</th>\n",
       "      <th>ShoppingMall</th>\n",
       "      <th>Spa</th>\n",
       "      <th>VRDeck</th>\n",
       "      <th>Name</th>\n",
       "      <th>Transported</th>\n",
       "    </tr>\n",
       "  </thead>\n",
       "  <tbody>\n",
       "    <tr>\n",
       "      <th>0</th>\n",
       "      <td>0001_01</td>\n",
       "      <td>Europa</td>\n",
       "      <td>False</td>\n",
       "      <td>B/0/P</td>\n",
       "      <td>TRAPPIST-1e</td>\n",
       "      <td>39.0</td>\n",
       "      <td>False</td>\n",
       "      <td>0.0</td>\n",
       "      <td>0.0</td>\n",
       "      <td>0.0</td>\n",
       "      <td>0.0</td>\n",
       "      <td>0.0</td>\n",
       "      <td>Maham Ofracculy</td>\n",
       "      <td>False</td>\n",
       "    </tr>\n",
       "    <tr>\n",
       "      <th>1</th>\n",
       "      <td>0002_01</td>\n",
       "      <td>Earth</td>\n",
       "      <td>False</td>\n",
       "      <td>F/0/S</td>\n",
       "      <td>TRAPPIST-1e</td>\n",
       "      <td>24.0</td>\n",
       "      <td>False</td>\n",
       "      <td>109.0</td>\n",
       "      <td>9.0</td>\n",
       "      <td>25.0</td>\n",
       "      <td>549.0</td>\n",
       "      <td>44.0</td>\n",
       "      <td>Juanna Vines</td>\n",
       "      <td>True</td>\n",
       "    </tr>\n",
       "    <tr>\n",
       "      <th>2</th>\n",
       "      <td>0003_01</td>\n",
       "      <td>Europa</td>\n",
       "      <td>False</td>\n",
       "      <td>A/0/S</td>\n",
       "      <td>TRAPPIST-1e</td>\n",
       "      <td>58.0</td>\n",
       "      <td>True</td>\n",
       "      <td>43.0</td>\n",
       "      <td>3576.0</td>\n",
       "      <td>0.0</td>\n",
       "      <td>6715.0</td>\n",
       "      <td>49.0</td>\n",
       "      <td>Altark Susent</td>\n",
       "      <td>False</td>\n",
       "    </tr>\n",
       "    <tr>\n",
       "      <th>3</th>\n",
       "      <td>0003_02</td>\n",
       "      <td>Europa</td>\n",
       "      <td>False</td>\n",
       "      <td>A/0/S</td>\n",
       "      <td>TRAPPIST-1e</td>\n",
       "      <td>33.0</td>\n",
       "      <td>False</td>\n",
       "      <td>0.0</td>\n",
       "      <td>1283.0</td>\n",
       "      <td>371.0</td>\n",
       "      <td>3329.0</td>\n",
       "      <td>193.0</td>\n",
       "      <td>Solam Susent</td>\n",
       "      <td>False</td>\n",
       "    </tr>\n",
       "    <tr>\n",
       "      <th>4</th>\n",
       "      <td>0004_01</td>\n",
       "      <td>Earth</td>\n",
       "      <td>False</td>\n",
       "      <td>F/1/S</td>\n",
       "      <td>TRAPPIST-1e</td>\n",
       "      <td>16.0</td>\n",
       "      <td>False</td>\n",
       "      <td>303.0</td>\n",
       "      <td>70.0</td>\n",
       "      <td>151.0</td>\n",
       "      <td>565.0</td>\n",
       "      <td>2.0</td>\n",
       "      <td>Willy Santantines</td>\n",
       "      <td>True</td>\n",
       "    </tr>\n",
       "  </tbody>\n",
       "</table>\n",
       "</div>"
      ],
      "text/plain": [
       "  PassengerId HomePlanet CryoSleep  Cabin  Destination   Age    VIP  \\\n",
       "0     0001_01     Europa     False  B/0/P  TRAPPIST-1e  39.0  False   \n",
       "1     0002_01      Earth     False  F/0/S  TRAPPIST-1e  24.0  False   \n",
       "2     0003_01     Europa     False  A/0/S  TRAPPIST-1e  58.0   True   \n",
       "3     0003_02     Europa     False  A/0/S  TRAPPIST-1e  33.0  False   \n",
       "4     0004_01      Earth     False  F/1/S  TRAPPIST-1e  16.0  False   \n",
       "\n",
       "   RoomService  FoodCourt  ShoppingMall     Spa  VRDeck               Name  \\\n",
       "0          0.0        0.0           0.0     0.0     0.0    Maham Ofracculy   \n",
       "1        109.0        9.0          25.0   549.0    44.0       Juanna Vines   \n",
       "2         43.0     3576.0           0.0  6715.0    49.0      Altark Susent   \n",
       "3          0.0     1283.0         371.0  3329.0   193.0       Solam Susent   \n",
       "4        303.0       70.0         151.0   565.0     2.0  Willy Santantines   \n",
       "\n",
       "   Transported  \n",
       "0        False  \n",
       "1         True  \n",
       "2        False  \n",
       "3        False  \n",
       "4         True  "
      ]
     },
     "execution_count": 66,
     "metadata": {},
     "output_type": "execute_result"
    }
   ],
   "source": [
    "train.head()"
   ]
  },
  {
   "cell_type": "code",
   "execution_count": 67,
   "metadata": {},
   "outputs": [],
   "source": [
    "train_ids = train['PassengerId']\n",
    "train.drop(['PassengerId'], axis=1, inplace=True)"
   ]
  },
  {
   "cell_type": "code",
   "execution_count": 68,
   "metadata": {},
   "outputs": [],
   "source": [
    "# Add just the last name as it might be important and remove full name\n",
    "# There could be some cross contamination between cabin and last name?\n",
    "#fam = train['Name'].str.split(n=1,expand=True)\n",
    "#train['Family Name'] = fam[1]\n",
    "train.drop(['Name'], axis=1, inplace=True)"
   ]
  },
  {
   "cell_type": "code",
   "execution_count": 69,
   "metadata": {},
   "outputs": [],
   "source": [
    "# Remove any extra whitespace\n",
    "train.columns = train.columns.str.replace(' ', '_')"
   ]
  },
  {
   "cell_type": "code",
   "execution_count": 70,
   "metadata": {},
   "outputs": [
    {
     "name": "stdout",
     "output_type": "stream",
     "text": [
      "  HomePlanet CryoSleep  Cabin  Destination   Age    VIP  RoomService  \\\n",
      "0     Europa     False  B/0/P  TRAPPIST-1e  39.0  False          0.0   \n",
      "1      Earth     False  F/0/S  TRAPPIST-1e  24.0  False        109.0   \n",
      "2     Europa     False  A/0/S  TRAPPIST-1e  58.0   True         43.0   \n",
      "3     Europa     False  A/0/S  TRAPPIST-1e  33.0  False          0.0   \n",
      "4      Earth     False  F/1/S  TRAPPIST-1e  16.0  False        303.0   \n",
      "\n",
      "   FoodCourt  ShoppingMall     Spa  VRDeck  Transported  \n",
      "0        0.0           0.0     0.0     0.0        False  \n",
      "1        9.0          25.0   549.0    44.0         True  \n",
      "2     3576.0           0.0  6715.0    49.0        False  \n",
      "3     1283.0         371.0  3329.0   193.0        False  \n",
      "4       70.0         151.0   565.0     2.0         True  \n"
     ]
    },
    {
     "data": {
      "text/plain": [
       "HomePlanet       object\n",
       "CryoSleep        object\n",
       "Cabin            object\n",
       "Destination      object\n",
       "Age             float64\n",
       "VIP              object\n",
       "RoomService     float64\n",
       "FoodCourt       float64\n",
       "ShoppingMall    float64\n",
       "Spa             float64\n",
       "VRDeck          float64\n",
       "Transported        bool\n",
       "dtype: object"
      ]
     },
     "execution_count": 70,
     "metadata": {},
     "output_type": "execute_result"
    }
   ],
   "source": [
    "print(train.head())\n",
    "train.dtypes"
   ]
  },
  {
   "cell_type": "code",
   "execution_count": 71,
   "metadata": {},
   "outputs": [],
   "source": [
    "# Replacing missing homeplanets with the homeplanets of those in the same cabin This did not improve my results\n",
    "\n",
    "#na_planets = train[train['HomePlanet'].isna()]['Cabin']\n",
    "#found_planets = train.loc[train['Cabin'].isin(na_planets) \n",
    "#                          & ~train['Cabin'].isna() \n",
    "#                          & ~train['HomePlanet'].isna(), ['Cabin', 'HomePlanet']]\n",
    "#merged_df = train.merge(found_planets, on='Cabin', how='left')\n",
    "#merged_df['HomePlanet'] = merged_df['HomePlanet_y'].fillna(merged_df['HomePlanet_x'])\n",
    "#cabin_planet_matched = merged_df.groupby(['Cabin'])['HomePlanet'].first().reset_index()\n",
    "#train.update(cabin_planet_matched, overwrite=False)\n"
   ]
  },
  {
   "cell_type": "code",
   "execution_count": 72,
   "metadata": {},
   "outputs": [],
   "source": [
    "# Replace all nan with 0 as its GXB prefered method\n",
    "\n",
    "train.fillna(0, inplace=True)"
   ]
  },
  {
   "cell_type": "code",
   "execution_count": 73,
   "metadata": {},
   "outputs": [
    {
     "data": {
      "text/plain": [
       "201"
      ]
     },
     "execution_count": 73,
     "metadata": {},
     "output_type": "execute_result"
    }
   ],
   "source": [
    "len(train.loc[train['HomePlanet'] == 0])"
   ]
  },
  {
   "cell_type": "code",
   "execution_count": 74,
   "metadata": {},
   "outputs": [],
   "source": [
    "# Try replacing 0 in VIP with False to set it to bool\n",
    "train['VIP'].replace(0, False, inplace=True)\n",
    "train['VIP'] = train['VIP'].astype(bool)"
   ]
  },
  {
   "cell_type": "code",
   "execution_count": 75,
   "metadata": {},
   "outputs": [],
   "source": [
    "# Split X and y\n",
    "X = train.drop('Transported', axis=1).copy()\n",
    "y = train['Transported'].copy()"
   ]
  },
  {
   "cell_type": "code",
   "execution_count": 1,
   "metadata": {},
   "outputs": [
    {
     "ename": "NameError",
     "evalue": "name 'pd' is not defined",
     "output_type": "error",
     "traceback": [
      "\u001b[1;31m---------------------------------------------------------------------------\u001b[0m",
      "\u001b[1;31mNameError\u001b[0m                                 Traceback (most recent call last)",
      "\u001b[1;32m<ipython-input-1-6e18f438f9e4>\u001b[0m in \u001b[0;36m<module>\u001b[1;34m\u001b[0m\n\u001b[1;32m----> 1\u001b[1;33m \u001b[0mX_encode\u001b[0m \u001b[1;33m=\u001b[0m \u001b[0mpd\u001b[0m\u001b[1;33m.\u001b[0m\u001b[0mget_dummies\u001b[0m\u001b[1;33m(\u001b[0m\u001b[0mX\u001b[0m\u001b[1;33m,\u001b[0m \u001b[0mcolumns\u001b[0m\u001b[1;33m=\u001b[0m\u001b[1;33m[\u001b[0m\u001b[1;34m'HomePlanet'\u001b[0m\u001b[1;33m,\u001b[0m \u001b[1;34m'CryoSleep'\u001b[0m\u001b[1;33m,\u001b[0m \u001b[1;34m'Cabin'\u001b[0m\u001b[1;33m,\u001b[0m \u001b[1;34m'Destination'\u001b[0m\u001b[1;33m,\u001b[0m \u001b[1;34m'VIP'\u001b[0m\u001b[1;33m]\u001b[0m\u001b[1;33m)\u001b[0m\u001b[1;33m\u001b[0m\u001b[1;33m\u001b[0m\u001b[0m\n\u001b[0m",
      "\u001b[1;31mNameError\u001b[0m: name 'pd' is not defined"
     ]
    }
   ],
   "source": [
    "X_encode = pd.get_dummies(X, columns=['HomePlanet', 'CryoSleep', 'Cabin', 'Destination', 'VIP'])"
   ]
  },
  {
   "cell_type": "code",
   "execution_count": 77,
   "metadata": {},
   "outputs": [],
   "source": [
    "# data is balanced approx 50/50 so I will do normal split\n",
    "X_train, X_test, y_train, y_test = train_test_split(X_encode, y)"
   ]
  },
  {
   "cell_type": "code",
   "execution_count": 28,
   "metadata": {},
   "outputs": [
    {
     "name": "stdout",
     "output_type": "stream",
     "text": [
      "[0]\tvalidation_0-aucpr:0.85804\n",
      "[1]\tvalidation_0-aucpr:0.86471\n",
      "[2]\tvalidation_0-aucpr:0.87374\n",
      "[3]\tvalidation_0-aucpr:0.87408\n",
      "[4]\tvalidation_0-aucpr:0.87537\n",
      "[5]\tvalidation_0-aucpr:0.87479\n",
      "[6]\tvalidation_0-aucpr:0.87554\n",
      "[7]\tvalidation_0-aucpr:0.87655\n",
      "[8]\tvalidation_0-aucpr:0.87912\n",
      "[9]\tvalidation_0-aucpr:0.87987\n",
      "[10]\tvalidation_0-aucpr:0.88005\n",
      "[11]\tvalidation_0-aucpr:0.88100\n",
      "[12]\tvalidation_0-aucpr:0.88182\n",
      "[13]\tvalidation_0-aucpr:0.88190\n",
      "[14]\tvalidation_0-aucpr:0.88232\n",
      "[15]\tvalidation_0-aucpr:0.88239\n",
      "[16]\tvalidation_0-aucpr:0.88233\n",
      "[17]\tvalidation_0-aucpr:0.88290\n",
      "[18]\tvalidation_0-aucpr:0.88359\n",
      "[19]\tvalidation_0-aucpr:0.88356\n",
      "[20]\tvalidation_0-aucpr:0.88261\n",
      "[21]\tvalidation_0-aucpr:0.88317\n",
      "[22]\tvalidation_0-aucpr:0.88328\n",
      "[23]\tvalidation_0-aucpr:0.88337\n",
      "[24]\tvalidation_0-aucpr:0.88325\n",
      "[25]\tvalidation_0-aucpr:0.88313\n",
      "[26]\tvalidation_0-aucpr:0.88316\n",
      "[27]\tvalidation_0-aucpr:0.88329\n"
     ]
    },
    {
     "data": {
      "text/plain": [
       "XGBClassifier(base_score=0.5, booster='gbtree', callbacks=None,\n",
       "              colsample_bylevel=1, colsample_bynode=1, colsample_bytree=1,\n",
       "              early_stopping_rounds=10, enable_categorical=False,\n",
       "              eval_metric='aucpr', gamma=0, gpu_id=-1, grow_policy='depthwise',\n",
       "              importance_type=None, interaction_constraints='',\n",
       "              learning_rate=0.300000012, max_bin=256, max_cat_to_onehot=4,\n",
       "              max_delta_step=0, max_depth=6, max_leaves=0, min_child_weight=1,\n",
       "              missing=1, monotone_constraints='()', n_estimators=100, n_jobs=0,\n",
       "              num_parallel_tree=1, predictor='auto', random_state=0,\n",
       "              reg_alpha=0, reg_lambda=1, ...)"
      ]
     },
     "execution_count": 28,
     "metadata": {},
     "output_type": "execute_result"
    }
   ],
   "source": [
    "# build a basic model without modifying parameters\n",
    "clf_xgb = xgb.XGBClassifier(objective='binary:logistic',eval_metric='aucpr', early_stopping_rounds=10, missing=1)\n",
    "clf_xgb.fit(X_train, y_train, verbose=True, eval_set=[(X_test, y_test)])"
   ]
  },
  {
   "cell_type": "code",
   "execution_count": 104,
   "metadata": {},
   "outputs": [
    {
     "data": {
      "text/plain": [
       "<sklearn.metrics._plot.confusion_matrix.ConfusionMatrixDisplay at 0x1ac357749a0>"
      ]
     },
     "execution_count": 104,
     "metadata": {},
     "output_type": "execute_result"
    },
    {
     "data": {
      "image/png": "[encoded data removed]",
      "text/plain": [
       "<Figure size 432x288 with 2 Axes>"
      ]
     },
     "metadata": {
      "needs_background": "light"
     },
     "output_type": "display_data"
    }
   ],
   "source": [
    "# check simple model confusion matrix, results aren't great\n",
    "plot_confusion_matrix(clf_xgb, X_test, y_test, values_format='d', display_labels=['Did not teleport', 'teleported'])"
   ]
  },
  {
   "cell_type": "code",
   "execution_count": 21,
   "metadata": {},
   "outputs": [],
   "source": [
    "# optimize parameters with hyperparameterization, grid2 came after running 1 and refines the search by making params in the\n",
    "# middle of their range static, and expanding the search for params at the max of their range\n",
    "\n",
    "param_grid1 = {\n",
    "    'max_depth': [3,4,5],\n",
    "    'learning_rate': [0.1,0.01,0.05],\n",
    "    'gamma': [0,0.25,1.0],\n",
    "    'reg_lambda': [0,1.0,10.0],\n",
    "    'scale_pos_weight': [1,3,5]\n",
    "}\n",
    "\n",
    "param_grid2 = {\n",
    "    'max_depth': [4],\n",
    "    'learning_rate': [0.05,0.005,0.001],\n",
    "    'gamma': [0.25],\n",
    "    'reg_lambda': [0],\n",
    "    'scale_pos_weight': [0.1,0.5,1]\n",
    "}\n",
    "\n",
    "optimal_params = GridSearchCV(\n",
    "    estimator=xgb.XGBClassifier(objective = 'binary:logistic',\n",
    "                               subsample=0.9,\n",
    "                               colsample_bytree=0.5,\n",
    "                                early_stopping_rounds=10,\n",
    "                                eval_metric='auc'\n",
    "                               ),\n",
    "    param_grid = param_grid2,\n",
    "    scoring = 'roc_auc',\n",
    "    verbose = 0,\n",
    "    n_jobs = 10,\n",
    "    cv = 3\n",
    ")"
   ]
  },
  {
   "cell_type": "code",
   "execution_count": 79,
   "metadata": {},
   "outputs": [
    {
     "name": "stderr",
     "output_type": "stream",
     "text": [
      "C:\\Users\\Admin\\anaconda3\\lib\\site-packages\\xgboost\\sklearn.py:793: UserWarning: `eval_metric` in `fit` method is deprecated for better compatibility with scikit-learn, use `eval_metric` in constructor or`set_params` instead.\n",
      "  warnings.warn(\n",
      "C:\\Users\\Admin\\anaconda3\\lib\\site-packages\\xgboost\\sklearn.py:793: UserWarning: `early_stopping_rounds` in `fit` method is deprecated for better compatibility with scikit-learn, use `early_stopping_rounds` in constructor or`set_params` instead.\n",
      "  warnings.warn(\n"
     ]
    },
    {
     "data": {
      "text/plain": [
       "{'gamma': 0.25,\n",
       " 'learning_rate': 0.05,\n",
       " 'max_depth': 4,\n",
       " 'reg_lambda': 0,\n",
       " 'scale_pos_weight': 1}"
      ]
     },
     "execution_count": 79,
     "metadata": {},
     "output_type": "execute_result"
    }
   ],
   "source": [
    "# round 1\n",
    "optimal_params.fit(X_train,y_train, eval_set=[(X_test, y_test)], verbose=False)\n",
    "optimal_params.best_params_"
   ]
  },
  {
   "cell_type": "code",
   "execution_count": 22,
   "metadata": {},
   "outputs": [
    {
     "data": {
      "text/plain": [
       "{'gamma': 0.25,\n",
       " 'learning_rate': 0.05,\n",
       " 'max_depth': 4,\n",
       " 'reg_lambda': 0,\n",
       " 'scale_pos_weight': 1}"
      ]
     },
     "execution_count": 22,
     "metadata": {},
     "output_type": "execute_result"
    }
   ],
   "source": [
    "# round 2 we get the same values so we'll stick with that\n",
    "optimal_params.fit(X_train,y_train, eval_set=[(X_test, y_test)], verbose=False)\n",
    "optimal_params.best_params_"
   ]
  },
  {
   "cell_type": "code",
   "execution_count": 78,
   "metadata": {},
   "outputs": [
    {
     "name": "stdout",
     "output_type": "stream",
     "text": [
      "[0]\tvalidation_0-aucpr:0.83454\n",
      "[1]\tvalidation_0-aucpr:0.84523\n",
      "[2]\tvalidation_0-aucpr:0.85121\n",
      "[3]\tvalidation_0-aucpr:0.85653\n",
      "[4]\tvalidation_0-aucpr:0.85806\n",
      "[5]\tvalidation_0-aucpr:0.85521\n",
      "[6]\tvalidation_0-aucpr:0.85138\n",
      "[7]\tvalidation_0-aucpr:0.85545\n",
      "[8]\tvalidation_0-aucpr:0.85721\n",
      "[9]\tvalidation_0-aucpr:0.85611\n",
      "[10]\tvalidation_0-aucpr:0.85808\n",
      "[11]\tvalidation_0-aucpr:0.85799\n",
      "[12]\tvalidation_0-aucpr:0.85772\n",
      "[13]\tvalidation_0-aucpr:0.85808\n",
      "[14]\tvalidation_0-aucpr:0.85918\n",
      "[15]\tvalidation_0-aucpr:0.85922\n",
      "[16]\tvalidation_0-aucpr:0.85918\n",
      "[17]\tvalidation_0-aucpr:0.85905\n",
      "[18]\tvalidation_0-aucpr:0.85914\n",
      "[19]\tvalidation_0-aucpr:0.85880\n",
      "[20]\tvalidation_0-aucpr:0.85821\n",
      "[21]\tvalidation_0-aucpr:0.85962\n",
      "[22]\tvalidation_0-aucpr:0.85998\n",
      "[23]\tvalidation_0-aucpr:0.86084\n",
      "[24]\tvalidation_0-aucpr:0.86108\n",
      "[25]\tvalidation_0-aucpr:0.86143\n",
      "[26]\tvalidation_0-aucpr:0.86206\n",
      "[27]\tvalidation_0-aucpr:0.86227\n",
      "[28]\tvalidation_0-aucpr:0.86274\n",
      "[29]\tvalidation_0-aucpr:0.86245\n",
      "[30]\tvalidation_0-aucpr:0.86262\n",
      "[31]\tvalidation_0-aucpr:0.86360\n",
      "[32]\tvalidation_0-aucpr:0.86309\n",
      "[33]\tvalidation_0-aucpr:0.86392\n",
      "[34]\tvalidation_0-aucpr:0.86392\n",
      "[35]\tvalidation_0-aucpr:0.86402\n",
      "[36]\tvalidation_0-aucpr:0.86393\n",
      "[37]\tvalidation_0-aucpr:0.86474\n",
      "[38]\tvalidation_0-aucpr:0.86552\n",
      "[39]\tvalidation_0-aucpr:0.86611\n",
      "[40]\tvalidation_0-aucpr:0.86627\n",
      "[41]\tvalidation_0-aucpr:0.86665\n",
      "[42]\tvalidation_0-aucpr:0.86717\n",
      "[43]\tvalidation_0-aucpr:0.86749\n",
      "[44]\tvalidation_0-aucpr:0.86759\n",
      "[45]\tvalidation_0-aucpr:0.86802\n",
      "[46]\tvalidation_0-aucpr:0.86804\n",
      "[47]\tvalidation_0-aucpr:0.86848\n",
      "[48]\tvalidation_0-aucpr:0.86871\n",
      "[49]\tvalidation_0-aucpr:0.86892\n",
      "[50]\tvalidation_0-aucpr:0.86927\n",
      "[51]\tvalidation_0-aucpr:0.86981\n",
      "[52]\tvalidation_0-aucpr:0.86971\n",
      "[53]\tvalidation_0-aucpr:0.87000\n",
      "[54]\tvalidation_0-aucpr:0.87020\n",
      "[55]\tvalidation_0-aucpr:0.87042\n",
      "[56]\tvalidation_0-aucpr:0.87031\n",
      "[57]\tvalidation_0-aucpr:0.87072\n",
      "[58]\tvalidation_0-aucpr:0.87083\n",
      "[59]\tvalidation_0-aucpr:0.87089\n",
      "[60]\tvalidation_0-aucpr:0.87141\n",
      "[61]\tvalidation_0-aucpr:0.87143\n",
      "[62]\tvalidation_0-aucpr:0.87140\n",
      "[63]\tvalidation_0-aucpr:0.87157\n",
      "[64]\tvalidation_0-aucpr:0.87153\n",
      "[65]\tvalidation_0-aucpr:0.87177\n",
      "[66]\tvalidation_0-aucpr:0.87218\n",
      "[67]\tvalidation_0-aucpr:0.87242\n",
      "[68]\tvalidation_0-aucpr:0.87285\n",
      "[69]\tvalidation_0-aucpr:0.87284\n",
      "[70]\tvalidation_0-aucpr:0.87287\n",
      "[71]\tvalidation_0-aucpr:0.87290\n",
      "[72]\tvalidation_0-aucpr:0.87319\n",
      "[73]\tvalidation_0-aucpr:0.87328\n",
      "[74]\tvalidation_0-aucpr:0.87332\n",
      "[75]\tvalidation_0-aucpr:0.87378\n",
      "[76]\tvalidation_0-aucpr:0.87366\n",
      "[77]\tvalidation_0-aucpr:0.87384\n",
      "[78]\tvalidation_0-aucpr:0.87403\n",
      "[79]\tvalidation_0-aucpr:0.87422\n",
      "[80]\tvalidation_0-aucpr:0.87438\n",
      "[81]\tvalidation_0-aucpr:0.87451\n",
      "[82]\tvalidation_0-aucpr:0.87477\n",
      "[83]\tvalidation_0-aucpr:0.87478\n",
      "[84]\tvalidation_0-aucpr:0.87503\n",
      "[85]\tvalidation_0-aucpr:0.87488\n",
      "[86]\tvalidation_0-aucpr:0.87491\n",
      "[87]\tvalidation_0-aucpr:0.87507\n",
      "[88]\tvalidation_0-aucpr:0.87506\n",
      "[89]\tvalidation_0-aucpr:0.87506\n",
      "[90]\tvalidation_0-aucpr:0.87520\n",
      "[91]\tvalidation_0-aucpr:0.87543\n",
      "[92]\tvalidation_0-aucpr:0.87542\n",
      "[93]\tvalidation_0-aucpr:0.87552\n",
      "[94]\tvalidation_0-aucpr:0.87550\n",
      "[95]\tvalidation_0-aucpr:0.87544\n",
      "[96]\tvalidation_0-aucpr:0.87569\n",
      "[97]\tvalidation_0-aucpr:0.87568\n",
      "[98]\tvalidation_0-aucpr:0.87581\n",
      "[99]\tvalidation_0-aucpr:0.87594\n"
     ]
    },
    {
     "data": {
      "text/plain": [
       "XGBClassifier(base_score=0.5, booster='gbtree', callbacks=None,\n",
       "              colsample_bylevel=1, colsample_bynode=1, colsample_bytree=0.5,\n",
       "              early_stopping_rounds=10, enable_categorical=False,\n",
       "              eval_metric='aucpr', gamma=0.25, gpu_id=-1,\n",
       "              grow_policy='depthwise', importance_type=None,\n",
       "              interaction_constraints='', learning_rate=0.05, max_bin=256,\n",
       "              max_cat_to_onehot=4, max_delta_step=0, max_depth=4, max_leaves=0,\n",
       "              min_child_weight=1, missing=nan, monotone_constraints='()',\n",
       "              n_estimators=100, n_jobs=0, num_parallel_tree=1, predictor='auto',\n",
       "              random_state=0, reg_alpha=0, reg_lambda=0, ...)"
      ]
     },
     "execution_count": 78,
     "metadata": {},
     "output_type": "execute_result"
    }
   ],
   "source": [
    "# setup optimal model\n",
    "\n",
    "xlf_xgb = xgb.XGBClassifier(objective='binary:logistic',\n",
    "                         gamma=0.25,\n",
    "                         learning_rate=0.05,\n",
    "                         max_depth=4,\n",
    "                         reg_lambda=0,\n",
    "                         scale_pos_weight=1,\n",
    "                         colsample_bytree=0.5,\n",
    "                           early_stopping_rounds=10,\n",
    "                           eval_metric='aucpr')\n",
    "\n",
    "xlf_xgb.fit(X_train,\n",
    "           y_train,\n",
    "           verbose=True,\n",
    "           eval_set=[(X_test, y_test)])"
   ]
  },
  {
   "cell_type": "code",
   "execution_count": 79,
   "metadata": {},
   "outputs": [
    {
     "data": {
      "text/plain": [
       "<sklearn.metrics._plot.confusion_matrix.ConfusionMatrixDisplay at 0x1ff1a733250>"
      ]
     },
     "execution_count": 79,
     "metadata": {},
     "output_type": "execute_result"
    },
    {
     "data": {
      "image/png": "[encoded data removed]",
      "text/plain": [
       "<Figure size 432x288 with 2 Axes>"
      ]
     },
     "metadata": {
      "needs_background": "light"
     },
     "output_type": "display_data"
    }
   ],
   "source": [
    "plot_confusion_matrix(xlf_xgb,\n",
    "                     X_test,\n",
    "                     y_test,\n",
    "                     values_format='d',\n",
    "                     display_labels=['Did not teleport', 'teleported'])"
   ]
  },
  {
   "cell_type": "code",
   "execution_count": 80,
   "metadata": {},
   "outputs": [
    {
     "name": "stdout",
     "output_type": "stream",
     "text": [
      "  HomePlanet CryoSleep  Cabin  Destination   Age    VIP  RoomService  \\\n",
      "0      Earth      True  G/3/S  TRAPPIST-1e  27.0  False          0.0   \n",
      "1      Earth     False  F/4/S  TRAPPIST-1e  19.0  False          0.0   \n",
      "2     Europa      True  C/0/S  55 Cancri e  31.0  False          0.0   \n",
      "3     Europa     False  C/1/S  TRAPPIST-1e  38.0  False          0.0   \n",
      "4      Earth     False  F/5/S  TRAPPIST-1e  20.0  False         10.0   \n",
      "\n",
      "   FoodCourt  ShoppingMall     Spa  VRDeck  \n",
      "0        0.0           0.0     0.0     0.0  \n",
      "1        9.0           0.0  2823.0     0.0  \n",
      "2        0.0           0.0     0.0     0.0  \n",
      "3     6652.0           0.0   181.0   585.0  \n",
      "4        0.0         635.0     0.0     0.0  \n"
     ]
    }
   ],
   "source": [
    "# now to run on test data\n",
    "\n",
    "test = pd.read_csv(\"test.csv\")\n",
    "test_ids = test['PassengerId']\n",
    "test.drop(['PassengerId'], axis=1, inplace=True)\n",
    "\n",
    "#fam = test['Name'].str.split(n=1,expand=True)\n",
    "#test['Family Name'] = fam[1]\n",
    "test.drop(['Name'], axis=1, inplace=True)\n",
    "test.columns = test.columns.str.replace(' ', '_')\n",
    "\n",
    "# planet replace for test\n",
    "#na_planets = test[test['HomePlanet'].isna()]['Cabin']\n",
    "#found_planets = test.loc[test['Cabin'].isin(na_planets) \n",
    "#                            & ~test['Cabin'].isna() \n",
    "#                            & ~test['HomePlanet'].isna(), ['Cabin', 'HomePlanet']]\n",
    "#merged_df = test.merge(found_planets, on='Cabin', how='left')\n",
    "#merged_df['HomePlanet'] = merged_df['HomePlanet_y'].fillna(merged_df['HomePlanet_x'])\n",
    "#cabin_planet_matched = merged_df.groupby(['Cabin'])['HomePlanet'].first().reset_index()\n",
    "#test.update(cabin_planet_matched, overwrite=False)\n",
    "\n",
    "test.fillna(0, inplace=True)\n",
    "\n",
    "test['VIP'].replace(0, False, inplace=True)\n",
    "test['VIP'] = test['VIP'].astype(bool)\n",
    "\n",
    "print(test.head())\n",
    "\n",
    "test_encode = pd.get_dummies(test, columns=['HomePlanet', 'CryoSleep', 'Cabin', 'Destination', 'VIP'])\n",
    "\n",
    "missing = set(X_encode.columns) - set(test_encode)\n",
    "for c in missing:\n",
    "    test_encode[c] = 0\n",
    "test_encode = test_encode[X_encode.columns]"
   ]
  },
  {
   "cell_type": "code",
   "execution_count": 81,
   "metadata": {},
   "outputs": [
    {
     "data": {
      "text/plain": [
       "array([1, 0, 1, ..., 1, 1, 1])"
      ]
     },
     "execution_count": 81,
     "metadata": {},
     "output_type": "execute_result"
    }
   ],
   "source": [
    "predictions = xlf_xgb.predict(test_encode)\n",
    "predictions"
   ]
  },
  {
   "cell_type": "code",
   "execution_count": 82,
   "metadata": {},
   "outputs": [
    {
     "data": {
      "text/plain": [
       "array([ True, False,  True, ...,  True,  True,  True])"
      ]
     },
     "execution_count": 82,
     "metadata": {},
     "output_type": "execute_result"
    }
   ],
   "source": [
    "predictions = predictions.astype(bool)\n",
    "predictions"
   ]
  },
  {
   "cell_type": "code",
   "execution_count": 83,
   "metadata": {},
   "outputs": [
    {
     "data": {
      "text/plain": [
       "55.108721066167874"
      ]
     },
     "execution_count": 83,
     "metadata": {},
     "output_type": "execute_result"
    }
   ],
   "source": [
    "# positive percentage\n",
    "(sum(predictions)/len(predictions))*100"
   ]
  },
  {
   "cell_type": "code",
   "execution_count": 84,
   "metadata": {},
   "outputs": [],
   "source": [
    "submission = pd.read_csv(\"sample_submission.csv\")\n",
    "submission['Transported'] = predictions\n",
    "submission.to_csv(\"submission4.csv\", index=False)"
   ]
  },
  {
   "cell_type": "code",
   "execution_count": null,
   "metadata": {},
   "outputs": [],
   "source": []
  }
 ],
 "metadata": {
  "kernelspec": {
   "display_name": "Python 3",
   "language": "python",
   "name": "python3"
  },
  "language_info": {
   "codemirror_mode": {
    "name": "ipython",
    "version": 3
   },
   "file_extension": ".py",
   "mimetype": "text/x-python",
   "name": "python",
   "nbconvert_exporter": "python",
   "pygments_lexer": "ipython3",
   "version": "3.8.3"
  }
 },
 "nbformat": 4,
 "nbformat_minor": 4
}
